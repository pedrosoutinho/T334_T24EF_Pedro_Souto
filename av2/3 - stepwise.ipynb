{
 "cells": [
  {
   "cell_type": "code",
   "execution_count": 34,
   "metadata": {},
   "outputs": [],
   "source": [
    "import pandas as pd\n",
    "\n",
    "df = pd.read_csv(\"dataset_19.csv\")"
   ]
  },
  {
   "cell_type": "code",
   "execution_count": 35,
   "metadata": {},
   "outputs": [],
   "source": [
    "import random\n",
    "\n",
    "def replace_nan(row, col_name):\n",
    "    if pd.isna(row[col_name]):\n",
    "        return random.choice(df[col_name].dropna().tolist())\n",
    "    return row[col_name]\n",
    "\n",
    "df['tipo_hd'] = df.apply(replace_nan, col_name='tipo_hd', axis=1)\n",
    "df['tipo_processador'] = df.apply(replace_nan, col_name='tipo_processador', axis=1)\n",
    "df['armazenamento_tb'] = df.apply(replace_nan, col_name='armazenamento_tb', axis=1)\n",
    "\n",
    "\n",
    "df = df.dropna()"
   ]
  },
  {
   "cell_type": "code",
   "execution_count": 36,
   "metadata": {},
   "outputs": [
    {
     "name": "stderr",
     "output_type": "stream",
     "text": [
      "/tmp/ipykernel_9985/3217461436.py:3: FutureWarning: Downcasting behavior in `replace` is deprecated and will be removed in a future version. To retain the old behavior, explicitly call `result.infer_objects(copy=False)`. To opt-in to the future behavior, set `pd.set_option('future.no_silent_downcasting', True)`\n",
      "  df['tipo_hd'] = df['tipo_hd'].replace({'SSD': 1, 'HDD': 0}).astype(int)\n"
     ]
    }
   ],
   "source": [
    "# change armazenamento_tb to int: 0.256 is 1, 0.512 is 2, 1.0 is 4, 2.0 is 8\n",
    "df['armazenamento_tb'] = df['armazenamento_tb'].replace({0.256: 1, 0.512: 2, 1.0: 4, 2.0: 8}).astype(int)\n",
    "df['tipo_hd'] = df['tipo_hd'].replace({'SSD': 1, 'HDD': 0}).astype(int)\n",
    "\n",
    "# todo mac usa apple sillicon\n",
    "# se nao eh mac pode ser linux ou nao\n",
    "# se nao eh mac pode ser amd ou nao\n",
    "df['is_amd'] = df['tipo_processador'].apply(lambda x: 1 if 'AMD' in x else 0)\n",
    "df['is_windows'] = df['sistema_operacional'].apply(lambda x: 1 if 'Windows' in x else 0)\n",
    "df['is_mac'] = df['sistema_operacional'].apply(lambda x: 1 if 'MacOS' in x else 0)\n",
    "df = df.drop(columns=['tipo_processador'])\n",
    "df = df.drop(columns=['sistema_operacional'])"
   ]
  },
  {
   "cell_type": "code",
   "execution_count": null,
   "metadata": {},
   "outputs": [
    {
     "name": "stdout",
     "output_type": "stream",
     "text": [
      " k       R²    Adj. R²     F-stat   Selected features\n",
      "------------------------------------------------------------\n",
      " 1    0.550      0.547    217.564   cpu_cores\n",
      " 2    0.714      0.711    220.768   cpu_cores, ram_gb\n",
      " 3    0.714      0.710    146.815   cpu_cores, ram_gb, tipo_hd\n",
      " 4    0.715      0.709    109.972   cpu_cores, ram_gb, armazenamento_tb, tipo_hd\n",
      " 5    0.715      0.707     87.476   cpu_cores, ram_gb, armazenamento_tb, tipo_hd, is_mac\n",
      " 6    0.720      0.710     74.019   cpu_cores, ram_gb, armazenamento_tb, tipo_hd, is_windows, is_mac\n",
      " 7    0.721      0.710     63.578   cpu_cores, ram_gb, latencia_ms, armazenamento_tb, tipo_hd, is_windows, is_mac\n"
     ]
    }
   ],
   "source": [
    "from sklearn.linear_model import LinearRegression\n",
    "from sklearn.feature_selection import SequentialFeatureSelector\n",
    "import statsmodels.api as sm\n",
    "\n",
    "X = df.drop(columns=['tempo_resposta'])\n",
    "Y = df['tempo_resposta']\n",
    "\n",
    "lr = LinearRegression()\n",
    "\n",
    "selection_results = {}\n",
    "\n",
    "for k in range(1, 8):\n",
    "    sfs = SequentialFeatureSelector(\n",
    "        estimator=lr,\n",
    "        n_features_to_select=k,\n",
    "        direction='forward', \n",
    "        scoring='r2',        \n",
    "        cv=5,                \n",
    "        n_jobs=-1            \n",
    "    )\n",
    "    sfs.fit(X, Y)\n",
    "    \n",
    "    mask = sfs.get_support()\n",
    "    selected_feats = list(X.columns[mask])\n",
    "    \n",
    "    cv_scores = cross_val_score(lr, X[selected_feats], Y, cv=5, scoring='r2', n_jobs=-1)\n",
    "    \n",
    "    selection_results[k] = {\n",
    "        'features': selected_feats,\n",
    "        'mean_cv_r2': cv_scores.mean(),\n",
    "        'std_cv_r2': cv_scores.std()\n",
    "    }\n",
    "\n",
    "\n",
    "ols_results = {}\n",
    "\n",
    "for k, res in selection_results.items():\n",
    "    feats = res['features']\n",
    "    \n",
    "    X_k = sm.add_constant(X[feats])\n",
    "    \n",
    "    model = sm.OLS(Y, X_k).fit()\n",
    "    \n",
    "    ols_results[k] = {\n",
    "        'features': feats,\n",
    "        'rsquared': model.rsquared,\n",
    "        'rsquared_adj': model.rsquared_adj,\n",
    "        'f_stat': model.fvalue\n",
    "    }\n",
    "\n",
    "# print a comparison table\n",
    "print(f\"{'k':>2}  {'R²':>7}  {'Adj. R²':>9}  {'F-stat':>9}   Selected features\")\n",
    "print(\"-\"*60)\n",
    "for k in sorted(ols_results):\n",
    "    stats = ols_results[k]\n",
    "    feats = \", \".join(stats['features'])\n",
    "    print(f\"{k:2d}  {stats['rsquared']:7.3f}  {stats['rsquared_adj']:9.3f}  {stats['f_stat']:9.3f}   {feats}\")\n",
    "\n"
   ]
  },
  {
   "cell_type": "code",
   "execution_count": null,
   "metadata": {},
   "outputs": [],
   "source": []
  }
 ],
 "metadata": {
  "kernelspec": {
   "display_name": ".venv",
   "language": "python",
   "name": "python3"
  },
  "language_info": {
   "codemirror_mode": {
    "name": "ipython",
    "version": 3
   },
   "file_extension": ".py",
   "mimetype": "text/x-python",
   "name": "python",
   "nbconvert_exporter": "python",
   "pygments_lexer": "ipython3",
   "version": "3.13.0"
  }
 },
 "nbformat": 4,
 "nbformat_minor": 2
}
